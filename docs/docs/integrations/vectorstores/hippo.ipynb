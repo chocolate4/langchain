{
 "cells": [
  {
   "cell_type": "markdown",
   "source": [
    "## Hippo\n",
    "\n",
    ">[Hippo](https://www.transwarp.cn/starwarp) Please visit our official website for how to run a Hippo instance and\n",
    "how to use functionality related to the Hippo vector database\n",
    "\n",
    "## Getting Started\n",
    "\n",
    "The only prerequisite here is an API key from the OpenAI website. Make sure you have already started a Hippo instance."
   ],
   "metadata": {
    "collapsed": false
   },
   "id": "357f24224a8e818f"
  },
  {
   "cell_type": "markdown",
   "source": [
    "## Installing Dependencies\n",
    "\n",
    "Initially, we require the installation of certain dependencies, such as OpenAI, Langchain, and Hippo-API. Please note, you should install the appropriate versions tailored to your environment."
   ],
   "metadata": {
    "collapsed": false
   },
   "id": "a92d2ce26df7ac4c"
  },
  {
   "cell_type": "code",
   "execution_count": 26,
   "outputs": [
    {
     "name": "stdout",
     "output_type": "stream",
     "text": [
      "Requirement already satisfied: hippo-api==1.1.0 in /Users/daochengzhang/miniforge3/envs/hippo-python38/lib/python3.8/site-packages (1.1.0)\r\n",
      "Requirement already satisfied: requests>=2.22.0 in /Users/daochengzhang/miniforge3/envs/hippo-python38/lib/python3.8/site-packages (from hippo-api==1.1.0) (2.31.0)\r\n",
      "Requirement already satisfied: responses>=0.23.1 in /Users/daochengzhang/miniforge3/envs/hippo-python38/lib/python3.8/site-packages (from hippo-api==1.1.0) (0.23.3)\r\n",
      "Requirement already satisfied: pyyaml>=6.0 in /Users/daochengzhang/miniforge3/envs/hippo-python38/lib/python3.8/site-packages (from hippo-api==1.1.0) (6.0.1)\r\n",
      "Requirement already satisfied: bs4>=0.0.1 in /Users/daochengzhang/miniforge3/envs/hippo-python38/lib/python3.8/site-packages (from hippo-api==1.1.0) (0.0.1)\r\n",
      "Requirement already satisfied: openai in /Users/daochengzhang/miniforge3/envs/hippo-python38/lib/python3.8/site-packages (from hippo-api==1.1.0) (0.27.8)\r\n",
      "Requirement already satisfied: beautifulsoup4 in /Users/daochengzhang/miniforge3/envs/hippo-python38/lib/python3.8/site-packages (from bs4>=0.0.1->hippo-api==1.1.0) (4.12.2)\r\n",
      "Requirement already satisfied: charset-normalizer<4,>=2 in /Users/daochengzhang/miniforge3/envs/hippo-python38/lib/python3.8/site-packages (from requests>=2.22.0->hippo-api==1.1.0) (3.2.0)\r\n",
      "Requirement already satisfied: idna<4,>=2.5 in /Users/daochengzhang/miniforge3/envs/hippo-python38/lib/python3.8/site-packages (from requests>=2.22.0->hippo-api==1.1.0) (3.4)\r\n",
      "Requirement already satisfied: urllib3<3,>=1.21.1 in /Users/daochengzhang/miniforge3/envs/hippo-python38/lib/python3.8/site-packages (from requests>=2.22.0->hippo-api==1.1.0) (1.26.16)\r\n",
      "Requirement already satisfied: certifi>=2017.4.17 in /Users/daochengzhang/miniforge3/envs/hippo-python38/lib/python3.8/site-packages (from requests>=2.22.0->hippo-api==1.1.0) (2023.7.22)\r\n",
      "Requirement already satisfied: types-PyYAML in /Users/daochengzhang/miniforge3/envs/hippo-python38/lib/python3.8/site-packages (from responses>=0.23.1->hippo-api==1.1.0) (6.0.12.11)\r\n",
      "Requirement already satisfied: tqdm in /Users/daochengzhang/miniforge3/envs/hippo-python38/lib/python3.8/site-packages (from openai->hippo-api==1.1.0) (4.66.1)\r\n",
      "Requirement already satisfied: aiohttp in /Users/daochengzhang/miniforge3/envs/hippo-python38/lib/python3.8/site-packages (from openai->hippo-api==1.1.0) (3.8.5)\r\n",
      "Requirement already satisfied: attrs>=17.3.0 in /Users/daochengzhang/miniforge3/envs/hippo-python38/lib/python3.8/site-packages (from aiohttp->openai->hippo-api==1.1.0) (23.1.0)\r\n",
      "Requirement already satisfied: multidict<7.0,>=4.5 in /Users/daochengzhang/miniforge3/envs/hippo-python38/lib/python3.8/site-packages (from aiohttp->openai->hippo-api==1.1.0) (6.0.4)\r\n",
      "Requirement already satisfied: async-timeout<5.0,>=4.0.0a3 in /Users/daochengzhang/miniforge3/envs/hippo-python38/lib/python3.8/site-packages (from aiohttp->openai->hippo-api==1.1.0) (4.0.3)\r\n",
      "Requirement already satisfied: yarl<2.0,>=1.0 in /Users/daochengzhang/miniforge3/envs/hippo-python38/lib/python3.8/site-packages (from aiohttp->openai->hippo-api==1.1.0) (1.9.2)\r\n",
      "Requirement already satisfied: frozenlist>=1.1.1 in /Users/daochengzhang/miniforge3/envs/hippo-python38/lib/python3.8/site-packages (from aiohttp->openai->hippo-api==1.1.0) (1.4.0)\r\n",
      "Requirement already satisfied: aiosignal>=1.1.2 in /Users/daochengzhang/miniforge3/envs/hippo-python38/lib/python3.8/site-packages (from aiohttp->openai->hippo-api==1.1.0) (1.3.1)\r\n",
      "Requirement already satisfied: soupsieve>1.2 in /Users/daochengzhang/miniforge3/envs/hippo-python38/lib/python3.8/site-packages (from beautifulsoup4->bs4>=0.0.1->hippo-api==1.1.0) (2.4.1)\r\n"
     ]
    }
   ],
   "source": [
    "!pip install langchain tiktoken openai\n",
    "!pip install hippo-api==1.1.0"
   ],
   "metadata": {
    "collapsed": false,
    "ExecuteTime": {
     "end_time": "2023-10-11T07:54:09.213325Z",
     "start_time": "2023-10-11T07:54:07.387554Z"
    }
   },
   "id": "13b1d1ae153ff434"
  },
  {
   "cell_type": "markdown",
   "source": [
    "Note: Python version needs to be >=3.8.\n",
    "\n",
    "## Best Practice\n",
    "### Importing Dependency Packages"
   ],
   "metadata": {
    "collapsed": false
   },
   "id": "554081137df2c252"
  },
  {
   "cell_type": "code",
   "execution_count": 9,
   "outputs": [],
   "source": [
    "from langchain.chat_models import AzureChatOpenAI, ChatOpenAI\n",
    "from langchain.document_loaders import TextLoader\n",
    "from langchain.embeddings import OpenAIEmbeddings\n",
    "from langchain.text_splitter import CharacterTextSplitter\n",
    "from langchain.vectorstores.hippo import Hippo \n",
    "import os"
   ],
   "metadata": {
    "collapsed": false,
    "ExecuteTime": {
     "end_time": "2023-10-11T07:41:43.485877Z",
     "start_time": "2023-10-11T07:41:43.478502Z"
    }
   },
   "id": "5ff3296ce812aeb8"
  },
  {
   "cell_type": "markdown",
   "source": [
    "### Loading Knowledge Documents"
   ],
   "metadata": {
    "collapsed": false
   },
   "id": "dad255dae8aea755"
  },
  {
   "cell_type": "code",
   "execution_count": 12,
   "outputs": [],
   "source": [
    "os.environ[\"OPENAI_API_KEY\"] = \"YOUR OPENAI KEY\"\n",
    "loader = TextLoader(\"../../modules/state_of_the_union.txt\")\n",
    "documents = loader.load()"
   ],
   "metadata": {
    "collapsed": false,
    "ExecuteTime": {
     "end_time": "2023-10-11T07:43:20.588835Z",
     "start_time": "2023-10-11T07:43:20.581469Z"
    }
   },
   "id": "f02d66a7fd653dc1"
  },
  {
   "cell_type": "markdown",
   "source": [
    "### Segmenting the Knowledge Document\n",
    "\n",
    "Here, we use Langchain's CharacterTextSplitter for segmentation. The delimiter is a period. After segmentation, the text segment does not exceed 1000 characters, and the number of repeated characters is 0."
   ],
   "metadata": {
    "collapsed": false
   },
   "id": "e9b93c330f1c6160"
  },
  {
   "cell_type": "code",
   "execution_count": 14,
   "outputs": [],
   "source": [
    "text_splitter = CharacterTextSplitter(chunk_size=500, chunk_overlap=0)\n",
    "docs = text_splitter.split_documents(documents)"
   ],
   "metadata": {
    "collapsed": false,
    "ExecuteTime": {
     "end_time": "2023-10-11T07:43:41.368306Z",
     "start_time": "2023-10-11T07:43:41.360700Z"
    }
   },
   "id": "fe6b43175318331f"
  },
  {
   "cell_type": "markdown",
   "source": [
    "### Declaring the Embedding Model\n",
    "Below, we create the OpenAI or Azure embedding model using the OpenAIEmbeddings method from Langchain."
   ],
   "metadata": {
    "collapsed": false
   },
   "id": "eefe28c7c993ffdf"
  },
  {
   "cell_type": "code",
   "execution_count": 15,
   "outputs": [],
   "source": [
    "#openai\n",
    "embeddings = OpenAIEmbeddings()\n",
    "#azure\n",
    "# embeddings = OpenAIEmbeddings(\n",
    "#     openai_api_type=\"azure\",\n",
    "#     openai_api_base=\"x x x\",\n",
    "#     openai_api_version=\"x x x\",\n",
    "#     model=\"x x x\",\n",
    "#     deployment=\"x x x\",\n",
    "#     openai_api_key=\"x x x\"\n",
    "# )"
   ],
   "metadata": {
    "collapsed": false,
    "ExecuteTime": {
     "end_time": "2023-10-11T07:43:45.806652Z",
     "start_time": "2023-10-11T07:43:45.800046Z"
    }
   },
   "id": "8619f16b9f7355ea"
  },
  {
   "cell_type": "markdown",
   "source": [
    "### Declaring Hippo Client"
   ],
   "metadata": {
    "collapsed": false
   },
   "id": "e60235602ed91d3c"
  },
  {
   "cell_type": "code",
   "execution_count": 16,
   "outputs": [],
   "source": [
    "HIPPO_CONNECTION = {\n",
    "    \"host\": \"IP\",\n",
    "    \"port\": \"PORT\"\n",
    "}"
   ],
   "metadata": {
    "collapsed": false,
    "ExecuteTime": {
     "end_time": "2023-10-11T07:44:55.142385Z",
     "start_time": "2023-10-11T07:44:55.139404Z"
    }
   },
   "id": "c666b70dcab78129"
  },
  {
   "cell_type": "markdown",
   "source": [
    "### Storing the Document"
   ],
   "metadata": {
    "collapsed": false
   },
   "id": "43ee6dbd765c3172"
  },
  {
   "cell_type": "code",
   "execution_count": 17,
   "outputs": [
    {
     "name": "stdout",
     "output_type": "stream",
     "text": [
      "input...\n",
      "success\n"
     ]
    }
   ],
   "source": [
    "print(\"input...\")\n",
    "# insert docs\n",
    "vector_store = Hippo.from_documents(\n",
    "    docs,\n",
    "    embedding=embeddings,\n",
    "    table_name=\"langchain_test\",\n",
    "    connection_args=HIPPO_CONNECTION\n",
    ")\n",
    "print(\"success\")"
   ],
   "metadata": {
    "collapsed": false,
    "ExecuteTime": {
     "end_time": "2023-10-11T07:47:51.674103Z",
     "start_time": "2023-10-11T07:47:43.323530Z"
    }
   },
   "id": "79372c869844bdc9"
  },
  {
   "cell_type": "markdown",
   "source": [
    "### Conducting Knowledge-based Question and Answer\n",
    "#### Creating a Large Language Question-Answering Model\n",
    "Below, we create the OpenAI or Azure large language question-answering model respectively using the AzureChatOpenAI and ChatOpenAI methods from Langchain."
   ],
   "metadata": {
    "collapsed": false
   },
   "id": "89077cc9763d5dd0"
  },
  {
   "cell_type": "code",
   "execution_count": 21,
   "outputs": [],
   "source": [
    "# llm = AzureChatOpenAI(\n",
    "#     openai_api_base=\"x x x\",\n",
    "#     openai_api_version=\"xxx\",\n",
    "#     deployment_name=\"xxx\",\n",
    "#     openai_api_key=\"xxx\",\n",
    "#     openai_api_type=\"azure\"\n",
    "# )\n",
    "\n",
    "llm = ChatOpenAI(\n",
    "    openai_api_key=\"YOUR OPENAI KEY\",\n",
    "    model_name=\"gpt-3.5-turbo-16k\"\n",
    ")"
   ],
   "metadata": {
    "collapsed": false,
    "ExecuteTime": {
     "end_time": "2023-10-11T07:49:44.118607Z",
     "start_time": "2023-10-11T07:49:44.111140Z"
    }
   },
   "id": "c9f2c42e9884f628"
  },
  {
   "cell_type": "markdown",
   "source": [
    "### Acquiring Related Knowledge Based on the Question："
   ],
   "metadata": {
    "collapsed": false
   },
   "id": "a4c5d73016a9db0c"
  },
  {
   "cell_type": "code",
   "execution_count": 22,
   "outputs": [],
   "source": [
    "query = \"Please introduce COVID-19\"\n",
    "# query = \"Please introduce Hippo Core Architecture\"\n",
    "# query = \"What operations does the Hippo Vector Database support for vector data?\"\n",
    "# query = \"Does Hippo use hardware acceleration technology? Briefly introduce hardware acceleration technology.\"\n",
    "\n",
    "\n",
    "# Retrieve similar content from the knowledge base,fetch the top two most similar texts.\n",
    "res = vector_store.similarity_search(query, 2)\n",
    "content_list = [item.page_content for item in res]\n",
    "text = ''.join(content_list)"
   ],
   "metadata": {
    "collapsed": false,
    "ExecuteTime": {
     "end_time": "2023-10-11T07:49:46.067325Z",
     "start_time": "2023-10-11T07:49:45.556690Z"
    }
   },
   "id": "8656e80519da1f97"
  },
  {
   "cell_type": "markdown",
   "source": [
    "### Constructing a Prompt Template"
   ],
   "metadata": {
    "collapsed": false
   },
   "id": "e5adbaaa7086d1ae"
  },
  {
   "cell_type": "code",
   "execution_count": 23,
   "outputs": [],
   "source": [
    "prompt = f\"\"\"\n",
    "Please use the content of the following [Article] to answer my question. If you don't know, please say you don't know, and the answer should be concise.\"\n",
    "[Article]:{text}\n",
    "Please answer this question in conjunction with the above article:{query}\n",
    "\"\"\""
   ],
   "metadata": {
    "collapsed": false,
    "ExecuteTime": {
     "end_time": "2023-10-11T07:49:47.993760Z",
     "start_time": "2023-10-11T07:49:47.988485Z"
    }
   },
   "id": "b915d3001a2741c1"
  },
  {
   "cell_type": "markdown",
   "source": [
    "### Waiting for the Large Language Model to Generate an Answer"
   ],
   "metadata": {
    "collapsed": false
   },
   "id": "b36b6a9adbec8a82"
  },
  {
   "cell_type": "code",
   "execution_count": 24,
   "outputs": [
    {
     "name": "stdout",
     "output_type": "stream",
     "text": [
      "response_with_hippo:COVID-19 is a virus that has affected the world and caused significant loss of life. It is a disease that mutates and spreads, requiring ongoing efforts to combat it. Vaccinations and treatments have been effective in providing protection against the virus, and efforts are being made to authorize vaccines for children under 5. The government has provided free vaccines, treatments, tests, and masks to control the spread of COVID-19. The article emphasizes the need to continue these efforts and not accept living with the virus as the new normal.\n",
      "==========================================\n",
      "response_without_hippo:COVID-19, also known as the coronavirus disease 2019, is a highly contagious respiratory illness caused by a novel coronavirus called SARS-CoV-2. It was first identified in December 2019 in the city of Wuhan, Hubei province, China. The virus quickly spread across the globe, leading to a pandemic declared by the World Health Organization (WHO) on March 11, 2020.\n",
      "\n",
      "COVID-19 primarily spreads through respiratory droplets when an infected person coughs, sneezes, talks, or breathes. It can also spread by touching surfaces contaminated with the virus and then touching the face. The symptoms of COVID-19 can range from mild to severe and include fever, cough, fatigue, loss of taste or smell, sore throat, and difficulty breathing. In severe cases, it can lead to pneumonia, organ failure, and even death.\n",
      "\n",
      "To prevent the spread of COVID-19, various measures have been implemented worldwide, including social distancing, wearing face masks, practicing good hand hygiene, and frequent sanitization of surfaces. Vaccines have also been developed and are being administered globally to control the spread of the virus.\n",
      "\n",
      "The pandemic has had significant impacts on societies, economies, and healthcare systems worldwide. It has led to widespread lockdowns, travel restrictions, school closures, and the adoption of remote work and online education. Efforts to control the virus and mitigate its impact continue to be a global priority.\n"
     ]
    }
   ],
   "source": [
    "response_with_hippo = llm.predict(prompt)\n",
    "print(f\"response_with_hippo:{response_with_hippo}\")\n",
    "response = llm.predict(query)\n",
    "print(\"==========================================\")\n",
    "print(f\"response_without_hippo:{response}\")"
   ],
   "metadata": {
    "collapsed": false,
    "ExecuteTime": {
     "end_time": "2023-10-11T07:50:38.191890Z",
     "start_time": "2023-10-11T07:49:50.438500Z"
    }
   },
   "id": "58eb5d2396321001"
  },
  {
   "cell_type": "code",
   "execution_count": null,
   "outputs": [],
   "source": [],
   "metadata": {
    "collapsed": false
   },
   "id": "b2b7ce4e1850ecf1"
  }
 ],
 "metadata": {
  "kernelspec": {
   "display_name": "Python 3",
   "language": "python",
   "name": "python3"
  },
  "language_info": {
   "codemirror_mode": {
    "name": "ipython",
    "version": 2
   },
   "file_extension": ".py",
   "mimetype": "text/x-python",
   "name": "python",
   "nbconvert_exporter": "python",
   "pygments_lexer": "ipython2",
   "version": "2.7.6"
  }
 },
 "nbformat": 4,
 "nbformat_minor": 5
}
